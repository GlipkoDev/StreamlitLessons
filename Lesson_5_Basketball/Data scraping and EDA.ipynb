{
 "cells": [
  {
   "cell_type": "code",
   "execution_count": 2,
   "id": "e62334d2",
   "metadata": {},
   "outputs": [],
   "source": [
    "import pandas as pd\n",
    "import numpy as np\n",
    "import matplotlib.pyplot as plt"
   ]
  },
  {
   "cell_type": "code",
   "execution_count": 8,
   "id": "865988ec",
   "metadata": {},
   "outputs": [],
   "source": [
    "url = \"https://www.basketball-reference.com/leagues/NBA_\" + \"2023\" + \"_per_game.html\"\n",
    "html = pd.read_html(url)\n",
    "raw = html[0]\n",
    "raw = raw.drop(raw[raw['Age'] == 'Age'].index)\n",
    "raw = raw.fillna(0)\n",
    "df = raw.drop(columns='Rk')"
   ]
  },
  {
   "cell_type": "code",
   "execution_count": 25,
   "id": "2fbd70cb",
   "metadata": {},
   "outputs": [
    {
     "data": {
      "text/html": [
       "<div>\n",
       "<style scoped>\n",
       "    .dataframe tbody tr th:only-of-type {\n",
       "        vertical-align: middle;\n",
       "    }\n",
       "\n",
       "    .dataframe tbody tr th {\n",
       "        vertical-align: top;\n",
       "    }\n",
       "\n",
       "    .dataframe thead th {\n",
       "        text-align: right;\n",
       "    }\n",
       "</style>\n",
       "<table border=\"1\" class=\"dataframe\">\n",
       "  <thead>\n",
       "    <tr style=\"text-align: right;\">\n",
       "      <th></th>\n",
       "      <th>Player</th>\n",
       "      <th>Pos</th>\n",
       "      <th>Age</th>\n",
       "      <th>Tm</th>\n",
       "      <th>G</th>\n",
       "      <th>GS</th>\n",
       "      <th>MP</th>\n",
       "      <th>FG</th>\n",
       "      <th>FGA</th>\n",
       "      <th>FG%</th>\n",
       "      <th>...</th>\n",
       "      <th>FT%</th>\n",
       "      <th>ORB</th>\n",
       "      <th>DRB</th>\n",
       "      <th>TRB</th>\n",
       "      <th>AST</th>\n",
       "      <th>STL</th>\n",
       "      <th>BLK</th>\n",
       "      <th>TOV</th>\n",
       "      <th>PF</th>\n",
       "      <th>PTS</th>\n",
       "    </tr>\n",
       "  </thead>\n",
       "  <tbody>\n",
       "    <tr>\n",
       "      <th>0</th>\n",
       "      <td>Precious Achiuwa</td>\n",
       "      <td>C</td>\n",
       "      <td>23</td>\n",
       "      <td>TOR</td>\n",
       "      <td>40</td>\n",
       "      <td>11</td>\n",
       "      <td>22.7</td>\n",
       "      <td>3.8</td>\n",
       "      <td>7.9</td>\n",
       "      <td>.479</td>\n",
       "      <td>...</td>\n",
       "      <td>.689</td>\n",
       "      <td>2.0</td>\n",
       "      <td>4.4</td>\n",
       "      <td>6.4</td>\n",
       "      <td>1.0</td>\n",
       "      <td>0.6</td>\n",
       "      <td>0.7</td>\n",
       "      <td>1.2</td>\n",
       "      <td>2.1</td>\n",
       "      <td>9.9</td>\n",
       "    </tr>\n",
       "    <tr>\n",
       "      <th>1</th>\n",
       "      <td>Steven Adams</td>\n",
       "      <td>C</td>\n",
       "      <td>29</td>\n",
       "      <td>MEM</td>\n",
       "      <td>42</td>\n",
       "      <td>42</td>\n",
       "      <td>27.0</td>\n",
       "      <td>3.7</td>\n",
       "      <td>6.3</td>\n",
       "      <td>.597</td>\n",
       "      <td>...</td>\n",
       "      <td>.364</td>\n",
       "      <td>5.1</td>\n",
       "      <td>6.5</td>\n",
       "      <td>11.5</td>\n",
       "      <td>2.3</td>\n",
       "      <td>0.9</td>\n",
       "      <td>1.1</td>\n",
       "      <td>1.9</td>\n",
       "      <td>2.3</td>\n",
       "      <td>8.6</td>\n",
       "    </tr>\n",
       "    <tr>\n",
       "      <th>2</th>\n",
       "      <td>Bam Adebayo</td>\n",
       "      <td>C</td>\n",
       "      <td>25</td>\n",
       "      <td>MIA</td>\n",
       "      <td>59</td>\n",
       "      <td>59</td>\n",
       "      <td>35.0</td>\n",
       "      <td>8.4</td>\n",
       "      <td>15.6</td>\n",
       "      <td>.536</td>\n",
       "      <td>...</td>\n",
       "      <td>.805</td>\n",
       "      <td>2.6</td>\n",
       "      <td>7.1</td>\n",
       "      <td>9.7</td>\n",
       "      <td>3.2</td>\n",
       "      <td>1.2</td>\n",
       "      <td>0.8</td>\n",
       "      <td>2.5</td>\n",
       "      <td>2.8</td>\n",
       "      <td>21.2</td>\n",
       "    </tr>\n",
       "    <tr>\n",
       "      <th>3</th>\n",
       "      <td>Ochai Agbaji</td>\n",
       "      <td>SG</td>\n",
       "      <td>22</td>\n",
       "      <td>UTA</td>\n",
       "      <td>41</td>\n",
       "      <td>4</td>\n",
       "      <td>16.0</td>\n",
       "      <td>1.9</td>\n",
       "      <td>4.1</td>\n",
       "      <td>.464</td>\n",
       "      <td>...</td>\n",
       "      <td>.682</td>\n",
       "      <td>0.7</td>\n",
       "      <td>1.1</td>\n",
       "      <td>1.8</td>\n",
       "      <td>0.6</td>\n",
       "      <td>0.2</td>\n",
       "      <td>0.1</td>\n",
       "      <td>0.4</td>\n",
       "      <td>1.5</td>\n",
       "      <td>5.2</td>\n",
       "    </tr>\n",
       "    <tr>\n",
       "      <th>4</th>\n",
       "      <td>Santi Aldama</td>\n",
       "      <td>PF</td>\n",
       "      <td>22</td>\n",
       "      <td>MEM</td>\n",
       "      <td>59</td>\n",
       "      <td>18</td>\n",
       "      <td>21.9</td>\n",
       "      <td>3.3</td>\n",
       "      <td>6.9</td>\n",
       "      <td>.472</td>\n",
       "      <td>...</td>\n",
       "      <td>.725</td>\n",
       "      <td>1.0</td>\n",
       "      <td>3.6</td>\n",
       "      <td>4.6</td>\n",
       "      <td>1.2</td>\n",
       "      <td>0.7</td>\n",
       "      <td>0.7</td>\n",
       "      <td>0.7</td>\n",
       "      <td>1.9</td>\n",
       "      <td>9.2</td>\n",
       "    </tr>\n",
       "  </tbody>\n",
       "</table>\n",
       "<p>5 rows × 29 columns</p>\n",
       "</div>"
      ],
      "text/plain": [
       "             Player Pos Age   Tm   G  GS    MP   FG   FGA   FG%  ...   FT%  \\\n",
       "0  Precious Achiuwa   C  23  TOR  40  11  22.7  3.8   7.9  .479  ...  .689   \n",
       "1      Steven Adams   C  29  MEM  42  42  27.0  3.7   6.3  .597  ...  .364   \n",
       "2       Bam Adebayo   C  25  MIA  59  59  35.0  8.4  15.6  .536  ...  .805   \n",
       "3      Ochai Agbaji  SG  22  UTA  41   4  16.0  1.9   4.1  .464  ...  .682   \n",
       "4      Santi Aldama  PF  22  MEM  59  18  21.9  3.3   6.9  .472  ...  .725   \n",
       "\n",
       "   ORB  DRB   TRB  AST  STL  BLK  TOV   PF   PTS  \n",
       "0  2.0  4.4   6.4  1.0  0.6  0.7  1.2  2.1   9.9  \n",
       "1  5.1  6.5  11.5  2.3  0.9  1.1  1.9  2.3   8.6  \n",
       "2  2.6  7.1   9.7  3.2  1.2  0.8  2.5  2.8  21.2  \n",
       "3  0.7  1.1   1.8  0.6  0.2  0.1  0.4  1.5   5.2  \n",
       "4  1.0  3.6   4.6  1.2  0.7  0.7  0.7  1.9   9.2  \n",
       "\n",
       "[5 rows x 29 columns]"
      ]
     },
     "execution_count": 25,
     "metadata": {},
     "output_type": "execute_result"
    }
   ],
   "source": [
    "df.head()"
   ]
  },
  {
   "cell_type": "code",
   "execution_count": 39,
   "id": "f6750357",
   "metadata": {},
   "outputs": [],
   "source": [
    "teams = sorted(df['Tm'].unique())[0:5]"
   ]
  },
  {
   "cell_type": "code",
   "execution_count": 40,
   "id": "0929c3d6",
   "metadata": {},
   "outputs": [
    {
     "data": {
      "text/plain": [
       "['ATL', 'BOS', 'BRK', 'CHI', 'CHO']"
      ]
     },
     "execution_count": 40,
     "metadata": {},
     "output_type": "execute_result"
    }
   ],
   "source": [
    "teams"
   ]
  },
  {
   "cell_type": "code",
   "execution_count": 61,
   "id": "53c347d6",
   "metadata": {},
   "outputs": [],
   "source": [
    "positions = ['C', 'SG', 'PF', 'PG', 'SF'][3:5]"
   ]
  },
  {
   "cell_type": "code",
   "execution_count": 62,
   "id": "4de4e980",
   "metadata": {},
   "outputs": [
    {
     "data": {
      "text/plain": [
       "['PG', 'SF']"
      ]
     },
     "execution_count": 62,
     "metadata": {},
     "output_type": "execute_result"
    }
   ],
   "source": [
    "positions"
   ]
  },
  {
   "cell_type": "code",
   "execution_count": 63,
   "id": "e0c4dbfa",
   "metadata": {},
   "outputs": [
    {
     "data": {
      "text/plain": [
       "'PG|SF'"
      ]
     },
     "execution_count": 63,
     "metadata": {},
     "output_type": "execute_result"
    }
   ],
   "source": [
    "position_regex = \"|\".join(positions)\n",
    "position_regex"
   ]
  },
  {
   "cell_type": "code",
   "execution_count": 64,
   "id": "51116ea1",
   "metadata": {},
   "outputs": [],
   "source": [
    "team_filter = df['Tm'].isin(teams)\n",
    "position_filter = df['Pos'].str.contains(position_regex, regex=True)"
   ]
  },
  {
   "cell_type": "code",
   "execution_count": 81,
   "id": "41cdf916",
   "metadata": {},
   "outputs": [
    {
     "name": "stdout",
     "output_type": "stream",
     "text": [
      "<class 'pandas.core.frame.DataFrame'>\n",
      "Int64Index: 37 entries, 25 to 655\n",
      "Data columns (total 29 columns):\n",
      " #   Column  Non-Null Count  Dtype \n",
      "---  ------  --------------  ----- \n",
      " 0   Player  37 non-null     object\n",
      " 1   Pos     37 non-null     object\n",
      " 2   Age     37 non-null     object\n",
      " 3   Tm      37 non-null     object\n",
      " 4   G       37 non-null     object\n",
      " 5   GS      37 non-null     object\n",
      " 6   MP      37 non-null     object\n",
      " 7   FG      37 non-null     object\n",
      " 8   FGA     37 non-null     object\n",
      " 9   FG%     37 non-null     object\n",
      " 10  3P      37 non-null     object\n",
      " 11  3PA     37 non-null     object\n",
      " 12  3P%     37 non-null     object\n",
      " 13  2P      37 non-null     object\n",
      " 14  2PA     37 non-null     object\n",
      " 15  2P%     37 non-null     object\n",
      " 16  eFG%    37 non-null     object\n",
      " 17  FT      37 non-null     object\n",
      " 18  FTA     37 non-null     object\n",
      " 19  FT%     35 non-null     object\n",
      " 20  ORB     37 non-null     object\n",
      " 21  DRB     37 non-null     object\n",
      " 22  TRB     37 non-null     object\n",
      " 23  AST     37 non-null     object\n",
      " 24  STL     37 non-null     object\n",
      " 25  BLK     37 non-null     object\n",
      " 26  TOV     37 non-null     object\n",
      " 27  PF      37 non-null     object\n",
      " 28  PTS     37 non-null     object\n",
      "dtypes: object(29)\n",
      "memory usage: 8.7+ KB\n"
     ]
    }
   ],
   "source": [
    "df[team_filter & position_filter]."
   ]
  },
  {
   "cell_type": "code",
   "execution_count": null,
   "id": "8cdb41f4",
   "metadata": {},
   "outputs": [],
   "source": []
  }
 ],
 "metadata": {
  "kernelspec": {
   "display_name": "Python 3 (ipykernel)",
   "language": "python",
   "name": "python3"
  },
  "language_info": {
   "codemirror_mode": {
    "name": "ipython",
    "version": 3
   },
   "file_extension": ".py",
   "mimetype": "text/x-python",
   "name": "python",
   "nbconvert_exporter": "python",
   "pygments_lexer": "ipython3",
   "version": "3.9.13"
  }
 },
 "nbformat": 4,
 "nbformat_minor": 5
}
